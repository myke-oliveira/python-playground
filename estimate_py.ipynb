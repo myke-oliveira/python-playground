{
 "metadata": {
  "language_info": {
   "codemirror_mode": {
    "name": "ipython",
    "version": 3
   },
   "file_extension": ".py",
   "mimetype": "text/x-python",
   "name": "python",
   "nbconvert_exporter": "python",
   "pygments_lexer": "ipython3",
   "version": "3.8.5-final"
  },
  "orig_nbformat": 2,
  "kernelspec": {
   "name": "python38264bitdff68fc3b3db407ba03b8191b42889a7",
   "display_name": "Python 3.8.2 64-bit",
   "language": "python"
  }
 },
 "nbformat": 4,
 "nbformat_minor": 2,
 "cells": [
  {
   "cell_type": "code",
   "execution_count": 4,
   "metadata": {},
   "outputs": [],
   "source": [
    "from random import random\n",
    "\n",
    "def estimate_pi(n):\n",
    "    qtd_inner_points, qtd_total = 0, 0\n",
    "    for _ in range(n):\n",
    "        x, y = random(), random()\n",
    "        distance = x**2 + y**2\n",
    "        if distance < 1:\n",
    "            qtd_inner_points += 1\n",
    "        qtd_total += 1\n",
    "\n",
    "    return 4 * qtd_inner_points / qtd_total\n"
   ]
  },
  {
   "cell_type": "code",
   "execution_count": 3,
   "metadata": {},
   "outputs": [
    {
     "output_type": "stream",
     "name": "stdout",
     "text": [
      "2.8\n3.36\n3.156\n3.1344\n"
     ]
    }
   ],
   "source": [
    "for i in range(1, 10):\n",
    "    print(estimate_pi(10**i))"
   ]
  }
 ]
}