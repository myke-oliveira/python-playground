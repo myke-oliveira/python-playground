{
 "metadata": {
  "language_info": {
   "codemirror_mode": {
    "name": "ipython",
    "version": 3
   },
   "file_extension": ".py",
   "mimetype": "text/x-python",
   "name": "python",
   "nbconvert_exporter": "python",
   "pygments_lexer": "ipython3",
   "version": "3.8.5-final"
  },
  "orig_nbformat": 2,
  "kernelspec": {
   "name": "python38264bitdff68fc3b3db407ba03b8191b42889a7",
   "display_name": "Python 3.8.2 64-bit",
   "language": "python"
  }
 },
 "nbformat": 4,
 "nbformat_minor": 2,
 "cells": [
  {
   "cell_type": "code",
   "execution_count": 13,
   "metadata": {},
   "outputs": [],
   "source": [
    "from random import random\n",
    "from math import exp\n",
    "\n",
    "f = lambda x: x**2 - 3*x\n",
    "\n",
    "def metropolis(a, b):\n",
    "    m = (b - a) * random() + a;\n",
    "    T = 1000;\n",
    "    while True:\n",
    "        n = m + random() - 0.5\n",
    "        U_m = f(m)\n",
    "        U_n = f(n)\n",
    "        if U_n < U_m:\n",
    "            m = n\n",
    "        elif exp(-(U_m - U_n) / T) < random():\n",
    "            m = n\n",
    "        T -= 1\n",
    "        if T <= 0:\n",
    "            break;\n",
    "    return m\n"
   ]
  },
  {
   "cell_type": "code",
   "execution_count": 14,
   "metadata": {},
   "outputs": [
    {
     "output_type": "execute_result",
     "data": {
      "text/plain": [
       "1.4987097458732044"
      ]
     },
     "metadata": {},
     "execution_count": 14
    }
   ],
   "source": [
    "metropolis(-10, 10)"
   ]
  }
 ]
}